{
  "cells": [
    {
      "cell_type": "markdown",
      "metadata": {
        "id": "Oz7d_8-DrZwS"
      },
      "source": [
        "# Programming 101"
      ]
    },
    {
      "cell_type": "markdown",
      "metadata": {
        "id": "p2QRrypErZwT"
      },
      "source": [
        "# Percabangan"
      ]
    },
    {
      "cell_type": "code",
      "execution_count": null,
      "metadata": {
        "id": "dumYiwyArZwU",
        "outputId": "9be4b139-91ce-4221-b841-95d0df47d65c"
      },
      "outputs": [],
      "source": [
        "\"\"\"\n",
        "kalau misalkan i = 1 print(\"halo\") ; i = 2 print(\"hai\"); i lebih dari 2 print(\"kae\")\n",
        "hint:\n",
        "\"\"\"\n",
        "\n",
        "i = 0\n",
        "\n",
        "if i == 1:\n",
        "    print(\"halo\")\n",
        "elif i == 2:\n",
        "    print(\"hai\")\n",
        "elif i > 2:\n",
        "    print(\"kae\")\n",
        "else:\n",
        "    print(\"wah kamu kok keluar dari soal >:(\")"
      ]
    },
    {
      "cell_type": "code",
      "execution_count": null,
      "metadata": {
        "id": "IEXVECvwrZwV",
        "outputId": "f4abd5bc-2cae-426b-fabf-591b439cfbf0"
      },
      "outputs": [],
      "source": [
        "\"\"\"\n",
        "kalau misalkan i = 'halo' print('hai'); i = 'hai' print('halo'); selain semua ini, print('apaan nih')\n",
        "\"\"\"\n",
        "\n",
        "i = 'asdjal'\n",
        "\n",
        "if i == 'halo':\n",
        "    print(\"hai\")\n",
        "elif i == 'hai':\n",
        "    print(\"halo\")\n",
        "else:\n",
        "    print(\"apaan nih\")"
      ]
    },
    {
      "cell_type": "code",
      "execution_count": null,
      "metadata": {
        "id": "eRaR6XNmrZwV",
        "outputId": "83e1d563-37eb-4ab7-cee9-27ad375490a6"
      },
      "outputs": [],
      "source": [
        "\"\"\"\n",
        "Buat calculator untuk menampilkan hasil perhitungan,\n",
        "ada tambah, kurang, kali, bagi\n",
        "\"\"\"\n",
        "\n",
        "operator = 'bagi'\n",
        "angka_1 = 5\n",
        "angka_2 = 3\n",
        "\n",
        "if operator == 'tambah':\n",
        "    print(angka_1 + angka_2)\n",
        "elif operator == 'kurang':\n",
        "    print(angka_1 - angka_2)\n",
        "elif operator == 'kali':\n",
        "    print(angka_1 * angka_2)\n",
        "elif operator == 'bagi':\n",
        "    print(angka_1 / angka_2)"
      ]
    },
    {
      "cell_type": "code",
      "execution_count": null,
      "metadata": {
        "id": "zLiQtz0BrZwW"
      },
      "outputs": [],
      "source": [
        "def calculator(angka_1, angka_2, operator):\n",
        "    if operator == 'tambah':\n",
        "        print(angka_1 + angka_2)\n",
        "    elif operator == 'kali':\n",
        "        print(angka_1 * angka_2)\n",
        "    elif operator == 'bagi':\n",
        "        print(angka_1 / angka_2)\n",
        "    elif operator == 'kurang':\n",
        "        print(angka_1 - angka_2)"
      ]
    },
    {
      "cell_type": "code",
      "execution_count": null,
      "metadata": {
        "id": "5IHSzrN_rZwW",
        "outputId": "e9d834b2-18b0-4bc1-e73c-e3c2fc474933"
      },
      "outputs": [],
      "source": [
        "calculator(5, 2, 'bagi')"
      ]
    },
    {
      "cell_type": "markdown",
      "metadata": {
        "id": "y103mRZ3rZwW"
      },
      "source": [
        "# Perulangan"
      ]
    },
    {
      "cell_type": "code",
      "execution_count": null,
      "metadata": {
        "id": "dg4VrNL3rZwX",
        "outputId": "b8b75df2-9cd3-4aae-e89c-c114f8f1e19c"
      },
      "outputs": [],
      "source": [
        "\"\"\"\n",
        "1,1,1,1,1\n",
        "\"\"\"\n",
        "i = 0\n",
        "while i < 5:\n",
        "    print(1)\n",
        "    i += 1\n"
      ]
    },
    {
      "cell_type": "code",
      "execution_count": null,
      "metadata": {
        "id": "Y6c8b8EErZwX",
        "outputId": "2ff3144f-23fb-4085-c064-d6faf8c9cdcc"
      },
      "outputs": [],
      "source": [
        "\"\"\"\n",
        "'bangkit 2023' 10\n",
        "\"\"\"\n",
        "i = 0\n",
        "while i < 10:\n",
        "    print('bangkit 2023')\n",
        "    i += 1\n"
      ]
    },
    {
      "cell_type": "code",
      "execution_count": null,
      "metadata": {},
      "outputs": [],
      "source": [
        "# Print \"I love Python!\" 5 times\n",
        "# Insert your code below\n",
        "\n",
        "i = 0\n",
        "while i < 5:\n",
        "    print('I love Python!')\n",
        "    i += 1\n",
        "\n",
        "# print('I love Python! ' * 5)"
      ]
    },
    {
      "cell_type": "code",
      "execution_count": 17,
      "metadata": {},
      "outputs": [
        {
          "name": "stdout",
          "output_type": "stream",
          "text": [
            "\n",
            "*\n",
            "**\n",
            "***\n",
            "****\n",
            "*****\n",
            "******\n",
            "*******\n",
            "********\n",
            "*********\n",
            "ini sudah di luar while loop\n",
            "**********\n"
          ]
        }
      ],
      "source": [
        "i = 0\n",
        "something = \"*\"\n",
        "while i < 10:\n",
        "    print(something * i)\n",
        "    i += 1\n",
        "print(\"ini sudah di luar while loop\")\n",
        "print(something * i)"
      ]
    },
    {
      "cell_type": "code",
      "execution_count": 20,
      "metadata": {},
      "outputs": [
        {
          "name": "stdout",
          "output_type": "stream",
          "text": [
            "          \n",
            "         *\n",
            "        **\n",
            "       ***\n",
            "      ****\n",
            "     *****\n",
            "    ******\n",
            "   *******\n",
            "  ********\n",
            " *********\n"
          ]
        }
      ],
      "source": [
        "i = 0\n",
        "n = 10\n",
        "something = \"*\"\n",
        "space = \" \"\n",
        "while i < n:\n",
        "    print(space * (n-i) + something * i)\n",
        "    i += 1"
      ]
    },
    {
      "cell_type": "code",
      "execution_count": 19,
      "metadata": {},
      "outputs": [
        {
          "name": "stdout",
          "output_type": "stream",
          "text": [
            "     \n",
            "    $\n",
            "   $$\n",
            "  $$$\n",
            " $$$$\n"
          ]
        }
      ],
      "source": [
        "i = 0\n",
        "n = 5\n",
        "dollar = '$'\n",
        "space = ' '\n",
        "while i < n:\n",
        "    print(space * (n-i) + dollar * i + )\n",
        "    i += 1"
      ]
    },
    {
      "cell_type": "code",
      "execution_count": 9,
      "metadata": {},
      "outputs": [
        {
          "name": "stdout",
          "output_type": "stream",
          "text": [
            "$$$$$$$$$$$$$$$$$$$\n",
            "$$$$$$$$$$$$$$$$$\n",
            "$$$$$$$$$$$$$$$\n",
            "$$$$$$$$$$$$$\n",
            "$$$$$$$$$$$\n",
            "$$$$$$$$$\n",
            "$$$$$$$\n",
            "$$$$$\n",
            "$$$\n"
          ]
        }
      ],
      "source": [
        "# 10 - 5 * (10 - 5)\n",
        "# 10 - 5 * 10 - 5\n",
        "i = 10\n",
        "n = 1\n",
        "dollar = '$'\n",
        "space = ' '\n",
        "while i > n:\n",
        "    print(space * 0 + dollar * (n-i) + dollar * i)\n",
        "    i -= 1"
      ]
    },
    {
      "cell_type": "code",
      "execution_count": null,
      "metadata": {},
      "outputs": [],
      "source": [
        "i = 1\n",
        "n = 1\n",
        "dollar = '+'\n",
        "space = ' '\n",
        "while i > n:\n",
        "    print(space * 0 + dollar * (n-i) + dollar * i)\n",
        "    i -= 1"
      ]
    },
    {
      "cell_type": "code",
      "execution_count": 12,
      "metadata": {},
      "outputs": [
        {
          "name": "stdout",
          "output_type": "stream",
          "text": [
            "+\n",
            "++\n",
            "+++\n",
            "++++\n",
            "+++++\n",
            "++++++\n"
          ]
        }
      ],
      "source": [
        "print(1 * \"+\")\n",
        "print(2 * \"+\")\n",
        "print(3 * \"+\")\n",
        "print(4 * \"+\")\n",
        "print(5 * \"+\")\n",
        "print(6 * \"+\")"
      ]
    },
    {
      "cell_type": "code",
      "execution_count": 17,
      "metadata": {},
      "outputs": [
        {
          "name": "stdout",
          "output_type": "stream",
          "text": [
            "++++++\n",
            "++++++\n",
            "++++++\n",
            "++++++\n",
            "++++++\n",
            "++++++\n",
            "++++++\n",
            "++++++\n",
            "++++++\n"
          ]
        }
      ],
      "source": [
        "i = 1\n",
        "n = 10\n",
        "plus = '+'\n",
        "while i < n:\n",
        "    print(6 * \"+\")\n",
        "    "
      ]
    },
    {
      "cell_type": "code",
      "execution_count": 19,
      "metadata": {},
      "outputs": [
        {
          "name": "stdout",
          "output_type": "stream",
          "text": [
            "1\n",
            "2\n",
            "3\n",
            "4\n"
          ]
        }
      ],
      "source": [
        "i = 1\n",
        "n = 5\n",
        "while i < n:\n",
        "    print(i)\n",
        "    i += 1"
      ]
    },
    {
      "cell_type": "code",
      "execution_count": 22,
      "metadata": {},
      "outputs": [
        {
          "name": "stdout",
          "output_type": "stream",
          "text": [
            "5\n",
            "4\n",
            "3\n",
            "2\n"
          ]
        }
      ],
      "source": [
        "i = 1\n",
        "n = 5\n",
        "while i < n:\n",
        "    print(n)\n",
        "    n = n - 1"
      ]
    },
    {
      "cell_type": "code",
      "execution_count": 21,
      "metadata": {},
      "outputs": [
        {
          "name": "stdout",
          "output_type": "stream",
          "text": [
            "5\n",
            "1\n",
            "4\n",
            "2\n"
          ]
        }
      ],
      "source": [
        "i = 5\n",
        "n = 1\n",
        "while i > n:\n",
        "    print(i)\n",
        "    print(n)\n",
        "    n = n + 1\n",
        "    i = i - 1"
      ]
    },
    {
      "cell_type": "code",
      "execution_count": null,
      "metadata": {},
      "outputs": [],
      "source": []
    },
    {
      "cell_type": "markdown",
      "metadata": {
        "id": "iKoUmWaSuFEc"
      },
      "source": [
        "## Array"
      ]
    },
    {
      "cell_type": "code",
      "execution_count": null,
      "metadata": {
        "id": "_HF652bgsDai"
      },
      "outputs": [],
      "source": [
        "arr = [0,1,2,3,4]\n",
        "arr2 = ['A','B','C','D','E']"
      ]
    },
    {
      "cell_type": "code",
      "execution_count": null,
      "metadata": {
        "colab": {
          "base_uri": "https://localhost:8080/"
        },
        "id": "zKPhj_rks-6F",
        "outputId": "3fb7bd30-b4f1-46ab-cda4-9c1e985a8c26"
      },
      "outputs": [],
      "source": [
        "arr"
      ]
    },
    {
      "cell_type": "code",
      "execution_count": null,
      "metadata": {
        "colab": {
          "base_uri": "https://localhost:8080/",
          "height": 35
        },
        "id": "79JjGKNytFUt",
        "outputId": "9f169833-0040-4c3d-f43c-90f730373af6"
      },
      "outputs": [],
      "source": [
        "arr2[4]"
      ]
    },
    {
      "cell_type": "code",
      "execution_count": null,
      "metadata": {
        "colab": {
          "base_uri": "https://localhost:8080/"
        },
        "id": "sRGJFBfDtgbX",
        "outputId": "1eb19057-5225-490d-a19b-6d55cb21d02f"
      },
      "outputs": [],
      "source": [
        "arr2.append('Z')\n",
        "arr2"
      ]
    },
    {
      "cell_type": "code",
      "execution_count": null,
      "metadata": {
        "id": "oLbQJXMguKsT"
      },
      "outputs": [],
      "source": [
        "arr2[]"
      ]
    },
    {
      "cell_type": "code",
      "execution_count": null,
      "metadata": {
        "id": "nEwnEYYWrZwX"
      },
      "outputs": [],
      "source": [
        "kak, bentar dulu ya. izin. lanjut ke yg lain dulu sama temen'\n",
        "\n",
        "ogge"
      ]
    },
    {
      "cell_type": "code",
      "execution_count": null,
      "metadata": {
        "id": "8iQAcY1KrZwX"
      },
      "outputs": [],
      "source": []
    }
  ],
  "metadata": {
    "colab": {
      "provenance": []
    },
    "kernelspec": {
      "display_name": "Python 3",
      "language": "python",
      "name": "python3"
    },
    "language_info": {
      "codemirror_mode": {
        "name": "ipython",
        "version": 3
      },
      "file_extension": ".py",
      "mimetype": "text/x-python",
      "name": "python",
      "nbconvert_exporter": "python",
      "pygments_lexer": "ipython3",
      "version": "3.11.2"
    },
    "orig_nbformat": 4,
    "vscode": {
      "interpreter": {
        "hash": "ff4b1fca65a764b45acb559e482afe389d289dd599b9f8c5fd12ff5c2ea46a65"
      }
    }
  },
  "nbformat": 4,
  "nbformat_minor": 0
}
